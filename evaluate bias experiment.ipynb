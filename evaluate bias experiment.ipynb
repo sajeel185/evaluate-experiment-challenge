{
 "cells": [
  {
   "cell_type": "markdown",
   "metadata": {},
   "source": [
    "\n",
    "### Experiment 1:\n",
    "\n",
    "In this example, the sample has a contextual bias. The two groups of 50 captured droids that the experiment was applied were probably fearful of their life, given the condition they were in, and so they don't accurately represent the other free persons in the general population that are still fighting bravely. More droids converted after hearing the current slogan \"Give in to your fear\", because of their own fear. \n",
    "\n",
    "The experiment would have a better result if it was conducted with a sample of similar people randomly selected from the general population.\n",
    "\n",
    "### Experiment 2:\n",
    "\n",
    "The problem with this experiment is the sample. The sample here consists of the eight planets, four friendly and four not friendly. Because Jar Jar Binks was sent to the four friendly planets and Mace Windu was sent to the four unfreindly planets, there is bias in the sample result because the public in the friendly planets are biased towards supporting the Jedi, and the public in the unfriendy planets are biased against the jedi.\n",
    "\n",
    "A better way to conduct the experiment would have been to send both of the jedi envoys to two friendly planents and two unfriendly planets each, and compare these new results.\n",
    "\n",
    "\n",
    "### Experiment 3:\n",
    "\n",
    "A problem with this experiment could be that a collective average over the number of groups (in this case a collective average of all the HR workers or the IT workers from the different work sites) may show one trend, and if we were to take separate averages of HR and IT worker satisfaction rates, from each of the work sites, it may show a different result or trend. This is an example of Simpson's Paradox.\n",
    "\n",
    "One way to resolve the problem could be to pay attention to the differences, if any, among the worksites. If we can avoid the differences and actually come up with a random sample of all the workers, than we should proceed with calculating and presenting the averages.\n",
    "\n",
    "### Example 4:\n",
    "\n",
    "The problem with this experiment is that it has selection bias. The sample differs from the population of our target customers because the people that are in the sample are the ones who decided to \"opt-in\". So due to this selection bias, we may not be able to apply the result of this experiment to the general population.\n",
    "\n",
    "This selection bias can be avoided if we just select a random group of people who are using the app, and ask them a questions to gauge their happiness with the app."
   ]
  }
 ],
 "metadata": {
  "kernelspec": {
   "display_name": "Python 3",
   "language": "python",
   "name": "python3"
  },
  "language_info": {
   "codemirror_mode": {
    "name": "ipython",
    "version": 3
   },
   "file_extension": ".py",
   "mimetype": "text/x-python",
   "name": "python",
   "nbconvert_exporter": "python",
   "pygments_lexer": "ipython3",
   "version": "3.7.0"
  }
 },
 "nbformat": 4,
 "nbformat_minor": 2
}
